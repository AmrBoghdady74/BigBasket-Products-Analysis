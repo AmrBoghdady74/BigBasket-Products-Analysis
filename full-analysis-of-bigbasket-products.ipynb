{
 "cells": [
  {
   "cell_type": "markdown",
   "id": "477da606",
   "metadata": {
    "papermill": {
     "duration": 0.011666,
     "end_time": "2022-08-30T15:31:55.855475",
     "exception": false,
     "start_time": "2022-08-30T15:31:55.843809",
     "status": "completed"
    },
    "tags": []
   },
   "source": [
    "# BigBasket Analysis\n",
    "## We will do a EDA for this dataset\n",
    "### Hope u enjoy my notebook here (:"
   ]
  },
  {
   "cell_type": "markdown",
   "id": "c92c4437",
   "metadata": {
    "papermill": {
     "duration": 0.00964,
     "end_time": "2022-08-30T15:31:55.874966",
     "exception": false,
     "start_time": "2022-08-30T15:31:55.865326",
     "status": "completed"
    },
    "tags": []
   },
   "source": [
    "## Importing Libraries"
   ]
  },
  {
   "cell_type": "code",
   "execution_count": 1,
   "id": "862d746a",
   "metadata": {
    "execution": {
     "iopub.execute_input": "2022-08-30T15:31:55.897420Z",
     "iopub.status.busy": "2022-08-30T15:31:55.896125Z",
     "iopub.status.idle": "2022-08-30T15:31:57.093955Z",
     "shell.execute_reply": "2022-08-30T15:31:57.092312Z"
    },
    "papermill": {
     "duration": 1.212674,
     "end_time": "2022-08-30T15:31:57.097270",
     "exception": false,
     "start_time": "2022-08-30T15:31:55.884596",
     "status": "completed"
    },
    "tags": []
   },
   "outputs": [],
   "source": [
    "import numpy as np\n",
    "import matplotlib.pyplot as plt\n",
    "import seaborn as sns\n",
    "import pandas as pd\n",
    "\n",
    "sns.set(rc={'figure.figsize':[6, 6]}, font_scale = 1.2)"
   ]
  },
  {
   "cell_type": "markdown",
   "id": "1c358be4",
   "metadata": {
    "papermill": {
     "duration": 0.010493,
     "end_time": "2022-08-30T15:31:57.118489",
     "exception": false,
     "start_time": "2022-08-30T15:31:57.107996",
     "status": "completed"
    },
    "tags": []
   },
   "source": [
    "## Import dataset"
   ]
  },
  {
   "cell_type": "code",
   "execution_count": 2,
   "id": "14b3f927",
   "metadata": {
    "execution": {
     "iopub.execute_input": "2022-08-30T15:31:57.142949Z",
     "iopub.status.busy": "2022-08-30T15:31:57.142102Z",
     "iopub.status.idle": "2022-08-30T15:31:57.675019Z",
     "shell.execute_reply": "2022-08-30T15:31:57.673858Z"
    },
    "papermill": {
     "duration": 0.547743,
     "end_time": "2022-08-30T15:31:57.677724",
     "exception": false,
     "start_time": "2022-08-30T15:31:57.129981",
     "status": "completed"
    },
    "tags": []
   },
   "outputs": [
    {
     "data": {
      "text/html": [
       "<div>\n",
       "<style scoped>\n",
       "    .dataframe tbody tr th:only-of-type {\n",
       "        vertical-align: middle;\n",
       "    }\n",
       "\n",
       "    .dataframe tbody tr th {\n",
       "        vertical-align: top;\n",
       "    }\n",
       "\n",
       "    .dataframe thead th {\n",
       "        text-align: right;\n",
       "    }\n",
       "</style>\n",
       "<table border=\"1\" class=\"dataframe\">\n",
       "  <thead>\n",
       "    <tr style=\"text-align: right;\">\n",
       "      <th></th>\n",
       "      <th>index</th>\n",
       "      <th>product</th>\n",
       "      <th>category</th>\n",
       "      <th>sub_category</th>\n",
       "      <th>brand</th>\n",
       "      <th>sale_price</th>\n",
       "      <th>market_price</th>\n",
       "      <th>type</th>\n",
       "      <th>rating</th>\n",
       "      <th>description</th>\n",
       "    </tr>\n",
       "  </thead>\n",
       "  <tbody>\n",
       "    <tr>\n",
       "      <th>0</th>\n",
       "      <td>1</td>\n",
       "      <td>Garlic Oil - Vegetarian Capsule 500 mg</td>\n",
       "      <td>Beauty &amp; Hygiene</td>\n",
       "      <td>Hair Care</td>\n",
       "      <td>Sri Sri Ayurveda</td>\n",
       "      <td>220.0</td>\n",
       "      <td>220.0</td>\n",
       "      <td>Hair Oil &amp; Serum</td>\n",
       "      <td>4.1</td>\n",
       "      <td>This Product contains Garlic Oil that is known...</td>\n",
       "    </tr>\n",
       "    <tr>\n",
       "      <th>1</th>\n",
       "      <td>2</td>\n",
       "      <td>Water Bottle - Orange</td>\n",
       "      <td>Kitchen, Garden &amp; Pets</td>\n",
       "      <td>Storage &amp; Accessories</td>\n",
       "      <td>Mastercook</td>\n",
       "      <td>180.0</td>\n",
       "      <td>180.0</td>\n",
       "      <td>Water &amp; Fridge Bottles</td>\n",
       "      <td>2.3</td>\n",
       "      <td>Each product is microwave safe (without lid), ...</td>\n",
       "    </tr>\n",
       "    <tr>\n",
       "      <th>2</th>\n",
       "      <td>3</td>\n",
       "      <td>Brass Angle Deep - Plain, No.2</td>\n",
       "      <td>Cleaning &amp; Household</td>\n",
       "      <td>Pooja Needs</td>\n",
       "      <td>Trm</td>\n",
       "      <td>119.0</td>\n",
       "      <td>250.0</td>\n",
       "      <td>Lamp &amp; Lamp Oil</td>\n",
       "      <td>3.4</td>\n",
       "      <td>A perfect gift for all occasions, be it your m...</td>\n",
       "    </tr>\n",
       "    <tr>\n",
       "      <th>3</th>\n",
       "      <td>4</td>\n",
       "      <td>Cereal Flip Lid Container/Storage Jar - Assort...</td>\n",
       "      <td>Cleaning &amp; Household</td>\n",
       "      <td>Bins &amp; Bathroom Ware</td>\n",
       "      <td>Nakoda</td>\n",
       "      <td>149.0</td>\n",
       "      <td>176.0</td>\n",
       "      <td>Laundry, Storage Baskets</td>\n",
       "      <td>3.7</td>\n",
       "      <td>Multipurpose container with an attractive desi...</td>\n",
       "    </tr>\n",
       "    <tr>\n",
       "      <th>4</th>\n",
       "      <td>5</td>\n",
       "      <td>Creme Soft Soap - For Hands &amp; Body</td>\n",
       "      <td>Beauty &amp; Hygiene</td>\n",
       "      <td>Bath &amp; Hand Wash</td>\n",
       "      <td>Nivea</td>\n",
       "      <td>162.0</td>\n",
       "      <td>162.0</td>\n",
       "      <td>Bathing Bars &amp; Soaps</td>\n",
       "      <td>4.4</td>\n",
       "      <td>Nivea Creme Soft Soap gives your skin the best...</td>\n",
       "    </tr>\n",
       "  </tbody>\n",
       "</table>\n",
       "</div>"
      ],
      "text/plain": [
       "   index                                            product  \\\n",
       "0      1             Garlic Oil - Vegetarian Capsule 500 mg   \n",
       "1      2                              Water Bottle - Orange   \n",
       "2      3                     Brass Angle Deep - Plain, No.2   \n",
       "3      4  Cereal Flip Lid Container/Storage Jar - Assort...   \n",
       "4      5                 Creme Soft Soap - For Hands & Body   \n",
       "\n",
       "                 category           sub_category              brand  \\\n",
       "0        Beauty & Hygiene              Hair Care  Sri Sri Ayurveda    \n",
       "1  Kitchen, Garden & Pets  Storage & Accessories         Mastercook   \n",
       "2    Cleaning & Household            Pooja Needs                Trm   \n",
       "3    Cleaning & Household   Bins & Bathroom Ware             Nakoda   \n",
       "4        Beauty & Hygiene       Bath & Hand Wash              Nivea   \n",
       "\n",
       "   sale_price  market_price                      type  rating  \\\n",
       "0       220.0         220.0          Hair Oil & Serum     4.1   \n",
       "1       180.0         180.0    Water & Fridge Bottles     2.3   \n",
       "2       119.0         250.0           Lamp & Lamp Oil     3.4   \n",
       "3       149.0         176.0  Laundry, Storage Baskets     3.7   \n",
       "4       162.0         162.0      Bathing Bars & Soaps     4.4   \n",
       "\n",
       "                                         description  \n",
       "0  This Product contains Garlic Oil that is known...  \n",
       "1  Each product is microwave safe (without lid), ...  \n",
       "2  A perfect gift for all occasions, be it your m...  \n",
       "3  Multipurpose container with an attractive desi...  \n",
       "4  Nivea Creme Soft Soap gives your skin the best...  "
      ]
     },
     "execution_count": 2,
     "metadata": {},
     "output_type": "execute_result"
    }
   ],
   "source": [
    "df = pd.read_csv('../input/bigbasket-entire-product-list-28k-datapoints/BigBasket Products.csv')\n",
    "df.head()"
   ]
  },
  {
   "cell_type": "markdown",
   "id": "e33ec1ef",
   "metadata": {
    "papermill": {
     "duration": 0.010154,
     "end_time": "2022-08-30T15:31:57.698326",
     "exception": false,
     "start_time": "2022-08-30T15:31:57.688172",
     "status": "completed"
    },
    "tags": []
   },
   "source": [
    "## Explore dataset"
   ]
  },
  {
   "cell_type": "code",
   "execution_count": 3,
   "id": "22df797a",
   "metadata": {
    "execution": {
     "iopub.execute_input": "2022-08-30T15:31:57.721999Z",
     "iopub.status.busy": "2022-08-30T15:31:57.721077Z",
     "iopub.status.idle": "2022-08-30T15:31:57.761690Z",
     "shell.execute_reply": "2022-08-30T15:31:57.760132Z"
    },
    "papermill": {
     "duration": 0.05593,
     "end_time": "2022-08-30T15:31:57.764695",
     "exception": false,
     "start_time": "2022-08-30T15:31:57.708765",
     "status": "completed"
    },
    "tags": []
   },
   "outputs": [
    {
     "name": "stdout",
     "output_type": "stream",
     "text": [
      "<class 'pandas.core.frame.DataFrame'>\n",
      "RangeIndex: 27555 entries, 0 to 27554\n",
      "Data columns (total 10 columns):\n",
      " #   Column        Non-Null Count  Dtype  \n",
      "---  ------        --------------  -----  \n",
      " 0   index         27555 non-null  int64  \n",
      " 1   product       27554 non-null  object \n",
      " 2   category      27555 non-null  object \n",
      " 3   sub_category  27555 non-null  object \n",
      " 4   brand         27554 non-null  object \n",
      " 5   sale_price    27555 non-null  float64\n",
      " 6   market_price  27555 non-null  float64\n",
      " 7   type          27555 non-null  object \n",
      " 8   rating        18929 non-null  float64\n",
      " 9   description   27440 non-null  object \n",
      "dtypes: float64(3), int64(1), object(6)\n",
      "memory usage: 2.1+ MB\n"
     ]
    }
   ],
   "source": [
    "df.info()"
   ]
  },
  {
   "cell_type": "markdown",
   "id": "9b9fae5d",
   "metadata": {
    "papermill": {
     "duration": 0.010368,
     "end_time": "2022-08-30T15:31:57.785193",
     "exception": false,
     "start_time": "2022-08-30T15:31:57.774825",
     "status": "completed"
    },
    "tags": []
   },
   "source": [
    "**Notes:**\n",
    "* There is no problems in dtype of features all is good.\n",
    "* There is a missing values in rating feature.\n",
    "* We can generate new feature calculated from sale_price and market_price which is discount."
   ]
  },
  {
   "cell_type": "markdown",
   "id": "5b3173be",
   "metadata": {
    "papermill": {
     "duration": 0.009734,
     "end_time": "2022-08-30T15:31:57.805176",
     "exception": false,
     "start_time": "2022-08-30T15:31:57.795442",
     "status": "completed"
    },
    "tags": []
   },
   "source": [
    "## Data Analysis\n",
    "**Questions to Answer:**\n",
    "1. Top 10 sold products ?!\n",
    "2. Least 10 sold products ?!\n",
    "3. Which category sales more as a count and profit ?!\n",
    "4. Which products have >= 4 ratting and it's categories ?!\n",
    "5. There are 2 types of products (discounted products - original price products):\n",
    "        5.1. What is count percentage between both of them ?!\n",
    "        5.2. What is profit percentage between both of them ?!\n",
    "6. Is there a relationship between ratting and sale_price ?!\n",
    "\n",
    "**Let's dive through it..!**"
   ]
  },
  {
   "cell_type": "markdown",
   "id": "bc8b05a9",
   "metadata": {
    "papermill": {
     "duration": 0.009796,
     "end_time": "2022-08-30T15:31:57.824911",
     "exception": false,
     "start_time": "2022-08-30T15:31:57.815115",
     "status": "completed"
    },
    "tags": []
   },
   "source": [
    "## 1. Top 10 sold products ?!"
   ]
  },
  {
   "cell_type": "code",
   "execution_count": 4,
   "id": "fe5b2c43",
   "metadata": {
    "execution": {
     "iopub.execute_input": "2022-08-30T15:31:57.848193Z",
     "iopub.status.busy": "2022-08-30T15:31:57.847303Z",
     "iopub.status.idle": "2022-08-30T15:31:57.907528Z",
     "shell.execute_reply": "2022-08-30T15:31:57.906237Z"
    },
    "papermill": {
     "duration": 0.074844,
     "end_time": "2022-08-30T15:31:57.910233",
     "exception": false,
     "start_time": "2022-08-30T15:31:57.835389",
     "status": "completed"
    },
    "tags": []
   },
   "outputs": [
    {
     "data": {
      "text/html": [
       "<div>\n",
       "<style scoped>\n",
       "    .dataframe tbody tr th:only-of-type {\n",
       "        vertical-align: middle;\n",
       "    }\n",
       "\n",
       "    .dataframe tbody tr th {\n",
       "        vertical-align: top;\n",
       "    }\n",
       "\n",
       "    .dataframe thead th {\n",
       "        text-align: right;\n",
       "    }\n",
       "</style>\n",
       "<table border=\"1\" class=\"dataframe\">\n",
       "  <thead>\n",
       "    <tr style=\"text-align: right;\">\n",
       "      <th></th>\n",
       "      <th>product</th>\n",
       "      <th>category</th>\n",
       "      <th>count</th>\n",
       "    </tr>\n",
       "  </thead>\n",
       "  <tbody>\n",
       "    <tr>\n",
       "      <th>0</th>\n",
       "      <td>Turmeric Powder/Arisina Pudi</td>\n",
       "      <td>Foodgrains, Oil &amp; Masala</td>\n",
       "      <td>26</td>\n",
       "    </tr>\n",
       "    <tr>\n",
       "      <th>1</th>\n",
       "      <td>Extra Virgin Olive Oil</td>\n",
       "      <td>Gourmet &amp; World Food</td>\n",
       "      <td>14</td>\n",
       "    </tr>\n",
       "    <tr>\n",
       "      <th>2</th>\n",
       "      <td>Cow Ghee/Tuppa</td>\n",
       "      <td>Foodgrains, Oil &amp; Masala</td>\n",
       "      <td>14</td>\n",
       "    </tr>\n",
       "    <tr>\n",
       "      <th>3</th>\n",
       "      <td>Soft Drink</td>\n",
       "      <td>Beverages</td>\n",
       "      <td>12</td>\n",
       "    </tr>\n",
       "    <tr>\n",
       "      <th>4</th>\n",
       "      <td>Colorsilk Hair Colour With Keratin</td>\n",
       "      <td>Beauty &amp; Hygiene</td>\n",
       "      <td>12</td>\n",
       "    </tr>\n",
       "    <tr>\n",
       "      <th>5</th>\n",
       "      <td>Coriander Powder</td>\n",
       "      <td>Foodgrains, Oil &amp; Masala</td>\n",
       "      <td>11</td>\n",
       "    </tr>\n",
       "    <tr>\n",
       "      <th>6</th>\n",
       "      <td>Ghee/Tuppa</td>\n",
       "      <td>Foodgrains, Oil &amp; Masala</td>\n",
       "      <td>11</td>\n",
       "    </tr>\n",
       "    <tr>\n",
       "      <th>7</th>\n",
       "      <td>Powder - Coriander</td>\n",
       "      <td>Foodgrains, Oil &amp; Masala</td>\n",
       "      <td>11</td>\n",
       "    </tr>\n",
       "    <tr>\n",
       "      <th>8</th>\n",
       "      <td>Olive Oil - Extra Virgin</td>\n",
       "      <td>Gourmet &amp; World Food</td>\n",
       "      <td>11</td>\n",
       "    </tr>\n",
       "    <tr>\n",
       "      <th>9</th>\n",
       "      <td>Hand Sanitizer</td>\n",
       "      <td>Beauty &amp; Hygiene</td>\n",
       "      <td>10</td>\n",
       "    </tr>\n",
       "  </tbody>\n",
       "</table>\n",
       "</div>"
      ],
      "text/plain": [
       "                              product                  category  count\n",
       "0        Turmeric Powder/Arisina Pudi  Foodgrains, Oil & Masala     26\n",
       "1              Extra Virgin Olive Oil      Gourmet & World Food     14\n",
       "2                      Cow Ghee/Tuppa  Foodgrains, Oil & Masala     14\n",
       "3                          Soft Drink                 Beverages     12\n",
       "4  Colorsilk Hair Colour With Keratin          Beauty & Hygiene     12\n",
       "5                    Coriander Powder  Foodgrains, Oil & Masala     11\n",
       "6                          Ghee/Tuppa  Foodgrains, Oil & Masala     11\n",
       "7                  Powder - Coriander  Foodgrains, Oil & Masala     11\n",
       "8            Olive Oil - Extra Virgin      Gourmet & World Food     11\n",
       "9                      Hand Sanitizer          Beauty & Hygiene     10"
      ]
     },
     "execution_count": 4,
     "metadata": {},
     "output_type": "execute_result"
    }
   ],
   "source": [
    "top_10 = pd.DataFrame(df[['product', 'category']].value_counts().head(10)).reset_index()\n",
    "top_10.columns = ['product', 'category', 'count']\n",
    "top_10"
   ]
  },
  {
   "cell_type": "code",
   "execution_count": 5,
   "id": "fadd41ea",
   "metadata": {
    "execution": {
     "iopub.execute_input": "2022-08-30T15:31:57.933048Z",
     "iopub.status.busy": "2022-08-30T15:31:57.932299Z",
     "iopub.status.idle": "2022-08-30T15:31:57.939374Z",
     "shell.execute_reply": "2022-08-30T15:31:57.938083Z"
    },
    "papermill": {
     "duration": 0.021294,
     "end_time": "2022-08-30T15:31:57.941776",
     "exception": false,
     "start_time": "2022-08-30T15:31:57.920482",
     "status": "completed"
    },
    "tags": []
   },
   "outputs": [],
   "source": [
    "import textwrap\n",
    "def wrap_labels(ax, width, break_long_words=False):\n",
    "    labels = []\n",
    "    for label in ax.get_xticklabels():\n",
    "        text = label.get_text()\n",
    "        labels.append(textwrap.fill(text, width=width,\n",
    "                      break_long_words=break_long_words))\n",
    "    ax.set_xticklabels(labels, rotation=0)"
   ]
  },
  {
   "cell_type": "code",
   "execution_count": 6,
   "id": "8af13969",
   "metadata": {
    "execution": {
     "iopub.execute_input": "2022-08-30T15:31:57.965739Z",
     "iopub.status.busy": "2022-08-30T15:31:57.964838Z",
     "iopub.status.idle": "2022-08-30T15:31:58.292652Z",
     "shell.execute_reply": "2022-08-30T15:31:58.291350Z"
    },
    "papermill": {
     "duration": 0.342879,
     "end_time": "2022-08-30T15:31:58.295445",
     "exception": false,
     "start_time": "2022-08-30T15:31:57.952566",
     "status": "completed"
    },
    "tags": []
   },
   "outputs": [
    {
     "data": {
      "image/png": "[encoded data removed]",
      "text/plain": [
       "<Figure size 1008x288 with 1 Axes>"
      ]
     },
     "metadata": {},
     "output_type": "display_data"
    }
   ],
   "source": [
    "fig = plt.figure(figsize=(14,4))\n",
    "ax = fig.add_axes([0,0,1,1])\n",
    "sns.barplot(data = top_10, x = 'product', y = 'count', palette='mako')\n",
    "plt.title('Top 10 sold products')\n",
    "ax.set_xlabel(\"Most sold products\",fontsize=15, weight='semibold')\n",
    "ax.set_ylabel(\"Number\",fontsize=15, weight='semibold')\n",
    "wrap_labels(ax, 10)"
   ]
  },
  {
   "cell_type": "code",
   "execution_count": 7,
   "id": "c29d06f0",
   "metadata": {
    "execution": {
     "iopub.execute_input": "2022-08-30T15:31:58.320142Z",
     "iopub.status.busy": "2022-08-30T15:31:58.319669Z",
     "iopub.status.idle": "2022-08-30T15:31:58.757270Z",
     "shell.execute_reply": "2022-08-30T15:31:58.755984Z"
    },
    "papermill": {
     "duration": 0.453972,
     "end_time": "2022-08-30T15:31:58.761036",
     "exception": false,
     "start_time": "2022-08-30T15:31:58.307064",
     "status": "completed"
    },
    "tags": []
   },
   "outputs": [
    {
     "data": {
      "image/png": "[encoded data removed]",
      "text/plain": [
       "<Figure size 1008x288 with 1 Axes>"
      ]
     },
     "metadata": {},
     "output_type": "display_data"
    }
   ],
   "source": [
    "fig = plt.figure(figsize=(14,4))\n",
    "ax = fig.add_axes([0,0,1,1])\n",
    "sns.barplot(data = top_10, x = 'product', y = 'count', hue = 'category', palette='mako')\n",
    "plt.title('Top 10 sold products')\n",
    "plt.legend(bbox_to_anchor=(1.02, 1), loc='upper left', borderaxespad=0)\n",
    "ax.set_xlabel(\"Most sold products\",fontsize=15, weight='semibold')\n",
    "ax.set_ylabel(\"Number\",fontsize=15, weight='semibold')\n",
    "wrap_labels(ax, 10)"
   ]
  },
  {
   "cell_type": "markdown",
   "id": "067759b3",
   "metadata": {
    "papermill": {
     "duration": 0.011748,
     "end_time": "2022-08-30T15:31:58.784516",
     "exception": false,
     "start_time": "2022-08-30T15:31:58.772768",
     "status": "completed"
    },
    "tags": []
   },
   "source": [
    "**Notes:**\n",
    "> As we see from above analysis that bigbasket supermarket customers have interest in **Foodgrains, Oil & Masala** category.\n",
    "> **Turmeric** is most sold product as it's on **Foodgrains, Oil & Masala** we can expect that indian is interest with haircare."
   ]
  },
  {
   "cell_type": "markdown",
   "id": "640eeea0",
   "metadata": {
    "papermill": {
     "duration": 0.011656,
     "end_time": "2022-08-30T15:31:58.807989",
     "exception": false,
     "start_time": "2022-08-30T15:31:58.796333",
     "status": "completed"
    },
    "tags": []
   },
   "source": [
    "## 2. Least 10 sold products ?!"
   ]
  },
  {
   "cell_type": "code",
   "execution_count": 8,
   "id": "cf2fa3c0",
   "metadata": {
    "execution": {
     "iopub.execute_input": "2022-08-30T15:31:58.833949Z",
     "iopub.status.busy": "2022-08-30T15:31:58.833176Z",
     "iopub.status.idle": "2022-08-30T15:31:58.887708Z",
     "shell.execute_reply": "2022-08-30T15:31:58.886552Z"
    },
    "papermill": {
     "duration": 0.070706,
     "end_time": "2022-08-30T15:31:58.890409",
     "exception": false,
     "start_time": "2022-08-30T15:31:58.819703",
     "status": "completed"
    },
    "tags": []
   },
   "outputs": [
    {
     "data": {
      "text/html": [
       "<div>\n",
       "<style scoped>\n",
       "    .dataframe tbody tr th:only-of-type {\n",
       "        vertical-align: middle;\n",
       "    }\n",
       "\n",
       "    .dataframe tbody tr th {\n",
       "        vertical-align: top;\n",
       "    }\n",
       "\n",
       "    .dataframe thead th {\n",
       "        text-align: right;\n",
       "    }\n",
       "</style>\n",
       "<table border=\"1\" class=\"dataframe\">\n",
       "  <thead>\n",
       "    <tr style=\"text-align: right;\">\n",
       "      <th></th>\n",
       "      <th>product</th>\n",
       "      <th>category</th>\n",
       "      <th>count</th>\n",
       "    </tr>\n",
       "  </thead>\n",
       "  <tbody>\n",
       "    <tr>\n",
       "      <th>0</th>\n",
       "      <td>Geometry Box - Kidzz</td>\n",
       "      <td>Cleaning &amp; Household</td>\n",
       "      <td>1</td>\n",
       "    </tr>\n",
       "    <tr>\n",
       "      <th>1</th>\n",
       "      <td>Geometry Box - Invento</td>\n",
       "      <td>Cleaning &amp; Household</td>\n",
       "      <td>1</td>\n",
       "    </tr>\n",
       "    <tr>\n",
       "      <th>2</th>\n",
       "      <td>Geometry Box - Export</td>\n",
       "      <td>Cleaning &amp; Household</td>\n",
       "      <td>1</td>\n",
       "    </tr>\n",
       "    <tr>\n",
       "      <th>3</th>\n",
       "      <td>Geometry Box - Disney, Invento</td>\n",
       "      <td>Cleaning &amp; Household</td>\n",
       "      <td>1</td>\n",
       "    </tr>\n",
       "    <tr>\n",
       "      <th>4</th>\n",
       "      <td>Geometry Box - Asteroid</td>\n",
       "      <td>Cleaning &amp; Household</td>\n",
       "      <td>1</td>\n",
       "    </tr>\n",
       "    <tr>\n",
       "      <th>5</th>\n",
       "      <td>Geometry Box - Archimedes</td>\n",
       "      <td>Cleaning &amp; Household</td>\n",
       "      <td>1</td>\n",
       "    </tr>\n",
       "    <tr>\n",
       "      <th>6</th>\n",
       "      <td>Genuine Wood Shaving Brush</td>\n",
       "      <td>Beauty &amp; Hygiene</td>\n",
       "      <td>1</td>\n",
       "    </tr>\n",
       "    <tr>\n",
       "      <th>7</th>\n",
       "      <td>Gentleman Urbane Deodorant</td>\n",
       "      <td>Beauty &amp; Hygiene</td>\n",
       "      <td>1</td>\n",
       "    </tr>\n",
       "    <tr>\n",
       "      <th>8</th>\n",
       "      <td>Gentleman Urbane - Eau De Parfum For Men</td>\n",
       "      <td>Beauty &amp; Hygiene</td>\n",
       "      <td>1</td>\n",
       "    </tr>\n",
       "    <tr>\n",
       "      <th>9</th>\n",
       "      <td>pasta shell</td>\n",
       "      <td>Snacks &amp; Branded Foods</td>\n",
       "      <td>1</td>\n",
       "    </tr>\n",
       "  </tbody>\n",
       "</table>\n",
       "</div>"
      ],
      "text/plain": [
       "                                    product                category  count\n",
       "0                      Geometry Box - Kidzz    Cleaning & Household      1\n",
       "1                    Geometry Box - Invento    Cleaning & Household      1\n",
       "2                     Geometry Box - Export    Cleaning & Household      1\n",
       "3            Geometry Box - Disney, Invento    Cleaning & Household      1\n",
       "4                   Geometry Box - Asteroid    Cleaning & Household      1\n",
       "5                 Geometry Box - Archimedes    Cleaning & Household      1\n",
       "6                Genuine Wood Shaving Brush        Beauty & Hygiene      1\n",
       "7                Gentleman Urbane Deodorant        Beauty & Hygiene      1\n",
       "8  Gentleman Urbane - Eau De Parfum For Men        Beauty & Hygiene      1\n",
       "9                               pasta shell  Snacks & Branded Foods      1"
      ]
     },
     "execution_count": 8,
     "metadata": {},
     "output_type": "execute_result"
    }
   ],
   "source": [
    "least_10 = pd.DataFrame(df[['product', 'category']].value_counts().tail(10)).reset_index()\n",
    "least_10.columns = ['product', 'category', 'count']\n",
    "least_10"
   ]
  },
  {
   "cell_type": "code",
   "execution_count": 9,
   "id": "346aeeae",
   "metadata": {
    "execution": {
     "iopub.execute_input": "2022-08-30T15:31:58.916769Z",
     "iopub.status.busy": "2022-08-30T15:31:58.916342Z",
     "iopub.status.idle": "2022-08-30T15:31:59.197659Z",
     "shell.execute_reply": "2022-08-30T15:31:59.196533Z"
    },
    "papermill": {
     "duration": 0.297582,
     "end_time": "2022-08-30T15:31:59.200500",
     "exception": false,
     "start_time": "2022-08-30T15:31:58.902918",
     "status": "completed"
    },
    "tags": []
   },
   "outputs": [
    {
     "data": {
      "image/png": "[encoded data removed]",
      "text/plain": [
       "<Figure size 1008x288 with 1 Axes>"
      ]
     },
     "metadata": {},
     "output_type": "display_data"
    }
   ],
   "source": [
    "fig = plt.figure(figsize=(14,4))\n",
    "ax = fig.add_axes([0,0,1,1])\n",
    "sns.barplot(data = least_10, x = 'product', y = 'count', palette='mako')\n",
    "plt.title('Least 10 10 sold products')\n",
    "ax.set_xlabel(\"Least sold products\",fontsize=15, weight='semibold')\n",
    "ax.set_ylabel(\"Number\",fontsize=15, weight='semibold')\n",
    "wrap_labels(ax, 10)"
   ]
  },
  {
   "cell_type": "code",
   "execution_count": 10,
   "id": "130ba6c2",
   "metadata": {
    "execution": {
     "iopub.execute_input": "2022-08-30T15:31:59.228754Z",
     "iopub.status.busy": "2022-08-30T15:31:59.228340Z",
     "iopub.status.idle": "2022-08-30T15:31:59.631174Z",
     "shell.execute_reply": "2022-08-30T15:31:59.630040Z"
    },
    "papermill": {
     "duration": 0.420275,
     "end_time": "2022-08-30T15:31:59.634086",
     "exception": false,
     "start_time": "2022-08-30T15:31:59.213811",
     "status": "completed"
    },
    "tags": []
   },
   "outputs": [
    {
     "data": {
      "image/png": "[encoded data removed]",
      "text/plain": [
       "<Figure size 1008x288 with 1 Axes>"
      ]
     },
     "metadata": {},
     "output_type": "display_data"
    }
   ],
   "source": [
    "fig = plt.figure(figsize=(14,4))\n",
    "ax = fig.add_axes([0,0,1,1])\n",
    "sns.barplot(data = least_10, x = 'product', y = 'count', hue = 'category', palette='mako')\n",
    "plt.title('Least 10 sold products')\n",
    "plt.legend(bbox_to_anchor=(1.02, 1), loc='upper left', borderaxespad=0)\n",
    "ax.set_xlabel(\"Least sold products\",fontsize=15, weight='semibold')\n",
    "ax.set_ylabel(\"Number\",fontsize=15, weight='semibold')\n",
    "wrap_labels(ax, 10)"
   ]
  },
  {
   "cell_type": "markdown",
   "id": "5a723689",
   "metadata": {
    "papermill": {
     "duration": 0.013814,
     "end_time": "2022-08-30T15:31:59.661683",
     "exception": false,
     "start_time": "2022-08-30T15:31:59.647869",
     "status": "completed"
    },
    "tags": []
   },
   "source": [
    "**Notes:**\n",
    "> As we see least sold products is in **Cleaning & Household, Beatuy & Hygiene, and Snacks & Branded Foods**."
   ]
  },
  {
   "cell_type": "markdown",
   "id": "d2bacab0",
   "metadata": {
    "papermill": {
     "duration": 0.013418,
     "end_time": "2022-08-30T15:31:59.688760",
     "exception": false,
     "start_time": "2022-08-30T15:31:59.675342",
     "status": "completed"
    },
    "tags": []
   },
   "source": [
    "## 3. Which category sales more as a count and profit ?!"
   ]
  },
  {
   "cell_type": "code",
   "execution_count": 11,
   "id": "11e1c9c0",
   "metadata": {
    "execution": {
     "iopub.execute_input": "2022-08-30T15:31:59.718412Z",
     "iopub.status.busy": "2022-08-30T15:31:59.717958Z",
     "iopub.status.idle": "2022-08-30T15:31:59.727275Z",
     "shell.execute_reply": "2022-08-30T15:31:59.726318Z"
    },
    "papermill": {
     "duration": 0.026694,
     "end_time": "2022-08-30T15:31:59.729639",
     "exception": false,
     "start_time": "2022-08-30T15:31:59.702945",
     "status": "completed"
    },
    "tags": []
   },
   "outputs": [
    {
     "data": {
      "text/plain": [
       "array(['Beauty & Hygiene', 'Kitchen, Garden & Pets',\n",
       "       'Cleaning & Household', 'Gourmet & World Food',\n",
       "       'Foodgrains, Oil & Masala', 'Snacks & Branded Foods', 'Beverages',\n",
       "       'Bakery, Cakes & Dairy', 'Baby Care', 'Fruits & Vegetables',\n",
       "       'Eggs, Meat & Fish'], dtype=object)"
      ]
     },
     "execution_count": 11,
     "metadata": {},
     "output_type": "execute_result"
    }
   ],
   "source": [
    "df['category'].unique()"
   ]
  },
  {
   "cell_type": "code",
   "execution_count": 12,
   "id": "288e2792",
   "metadata": {
    "execution": {
     "iopub.execute_input": "2022-08-30T15:31:59.758581Z",
     "iopub.status.busy": "2022-08-30T15:31:59.757851Z",
     "iopub.status.idle": "2022-08-30T15:31:59.767584Z",
     "shell.execute_reply": "2022-08-30T15:31:59.766576Z"
    },
    "papermill": {
     "duration": 0.02701,
     "end_time": "2022-08-30T15:31:59.770086",
     "exception": false,
     "start_time": "2022-08-30T15:31:59.743076",
     "status": "completed"
    },
    "tags": []
   },
   "outputs": [
    {
     "data": {
      "text/plain": [
       "Beauty & Hygiene            7867\n",
       "Gourmet & World Food        4690\n",
       "Kitchen, Garden & Pets      3580\n",
       "Snacks & Branded Foods      2814\n",
       "Foodgrains, Oil & Masala    2676\n",
       "Cleaning & Household        2675\n",
       "Beverages                    885\n",
       "Bakery, Cakes & Dairy        851\n",
       "Baby Care                    610\n",
       "Fruits & Vegetables          557\n",
       "Eggs, Meat & Fish            350\n",
       "Name: category, dtype: int64"
      ]
     },
     "execution_count": 12,
     "metadata": {},
     "output_type": "execute_result"
    }
   ],
   "source": [
    "df['category'].value_counts()"
   ]
  },
  {
   "cell_type": "code",
   "execution_count": 13,
   "id": "61b5535b",
   "metadata": {
    "execution": {
     "iopub.execute_input": "2022-08-30T15:31:59.800054Z",
     "iopub.status.busy": "2022-08-30T15:31:59.799269Z",
     "iopub.status.idle": "2022-08-30T15:32:00.101770Z",
     "shell.execute_reply": "2022-08-30T15:32:00.100810Z"
    },
    "papermill": {
     "duration": 0.320162,
     "end_time": "2022-08-30T15:32:00.104209",
     "exception": false,
     "start_time": "2022-08-30T15:31:59.784047",
     "status": "completed"
    },
    "tags": []
   },
   "outputs": [
    {
     "data": {
      "image/png": "[encoded data removed]",
      "text/plain": [
       "<Figure size 1008x288 with 1 Axes>"
      ]
     },
     "metadata": {},
     "output_type": "display_data"
    }
   ],
   "source": [
    "fig = plt.figure(figsize=(14,4))\n",
    "ax = fig.add_axes([0,0,1,1])\n",
    "sns.countplot(data = df, x = 'category', palette='mako')\n",
    "plt.title('No. of products sold in each category')\n",
    "plt.legend(bbox_to_anchor=(1.02, 1), loc='upper left', borderaxespad=0)\n",
    "ax.set_xlabel(\"Categories\",fontsize=15, weight='semibold')\n",
    "ax.set_ylabel(\"Count\",fontsize=15, weight='semibold')\n",
    "wrap_labels(ax, 10)"
   ]
  },
  {
   "cell_type": "markdown",
   "id": "39aaa242",
   "metadata": {
    "papermill": {
     "duration": 0.014308,
     "end_time": "2022-08-30T15:32:00.133754",
     "exception": false,
     "start_time": "2022-08-30T15:32:00.119446",
     "status": "completed"
    },
    "tags": []
   },
   "source": [
    "**Notes:**\n",
    "> As we see the most sold products from **Beauty & Hygiene** category and that seems the interest of indians. \n",
    "> **Eggs, Meat & Fish** category has the least sold products that may indicate to low quality of these products."
   ]
  },
  {
   "cell_type": "code",
   "execution_count": 14,
   "id": "6a7dd538",
   "metadata": {
    "execution": {
     "iopub.execute_input": "2022-08-30T15:32:00.165177Z",
     "iopub.status.busy": "2022-08-30T15:32:00.164727Z",
     "iopub.status.idle": "2022-08-30T15:32:00.183311Z",
     "shell.execute_reply": "2022-08-30T15:32:00.182028Z"
    },
    "papermill": {
     "duration": 0.037673,
     "end_time": "2022-08-30T15:32:00.186162",
     "exception": false,
     "start_time": "2022-08-30T15:32:00.148489",
     "status": "completed"
    },
    "tags": []
   },
   "outputs": [
    {
     "data": {
      "text/html": [
       "<div>\n",
       "<style scoped>\n",
       "    .dataframe tbody tr th:only-of-type {\n",
       "        vertical-align: middle;\n",
       "    }\n",
       "\n",
       "    .dataframe tbody tr th {\n",
       "        vertical-align: top;\n",
       "    }\n",
       "\n",
       "    .dataframe thead th {\n",
       "        text-align: right;\n",
       "    }\n",
       "</style>\n",
       "<table border=\"1\" class=\"dataframe\">\n",
       "  <thead>\n",
       "    <tr style=\"text-align: right;\">\n",
       "      <th></th>\n",
       "      <th>category</th>\n",
       "      <th>profit</th>\n",
       "    </tr>\n",
       "  </thead>\n",
       "  <tbody>\n",
       "    <tr>\n",
       "      <th>0</th>\n",
       "      <td>Baby Care</td>\n",
       "      <td>326317.17</td>\n",
       "    </tr>\n",
       "    <tr>\n",
       "      <th>1</th>\n",
       "      <td>Bakery, Cakes &amp; Dairy</td>\n",
       "      <td>121525.14</td>\n",
       "    </tr>\n",
       "    <tr>\n",
       "      <th>2</th>\n",
       "      <td>Beauty &amp; Hygiene</td>\n",
       "      <td>3293749.24</td>\n",
       "    </tr>\n",
       "    <tr>\n",
       "      <th>3</th>\n",
       "      <td>Beverages</td>\n",
       "      <td>212186.67</td>\n",
       "    </tr>\n",
       "    <tr>\n",
       "      <th>4</th>\n",
       "      <td>Cleaning &amp; Household</td>\n",
       "      <td>605013.09</td>\n",
       "    </tr>\n",
       "    <tr>\n",
       "      <th>5</th>\n",
       "      <td>Eggs, Meat &amp; Fish</td>\n",
       "      <td>101114.12</td>\n",
       "    </tr>\n",
       "    <tr>\n",
       "      <th>6</th>\n",
       "      <td>Foodgrains, Oil &amp; Masala</td>\n",
       "      <td>516916.23</td>\n",
       "    </tr>\n",
       "    <tr>\n",
       "      <th>7</th>\n",
       "      <td>Fruits &amp; Vegetables</td>\n",
       "      <td>28345.36</td>\n",
       "    </tr>\n",
       "    <tr>\n",
       "      <th>8</th>\n",
       "      <td>Gourmet &amp; World Food</td>\n",
       "      <td>1500115.31</td>\n",
       "    </tr>\n",
       "    <tr>\n",
       "      <th>9</th>\n",
       "      <td>Kitchen, Garden &amp; Pets</td>\n",
       "      <td>1816938.12</td>\n",
       "    </tr>\n",
       "    <tr>\n",
       "      <th>10</th>\n",
       "      <td>Snacks &amp; Branded Foods</td>\n",
       "      <td>364675.08</td>\n",
       "    </tr>\n",
       "  </tbody>\n",
       "</table>\n",
       "</div>"
      ],
      "text/plain": [
       "                    category      profit\n",
       "0                  Baby Care   326317.17\n",
       "1      Bakery, Cakes & Dairy   121525.14\n",
       "2           Beauty & Hygiene  3293749.24\n",
       "3                  Beverages   212186.67\n",
       "4       Cleaning & Household   605013.09\n",
       "5          Eggs, Meat & Fish   101114.12\n",
       "6   Foodgrains, Oil & Masala   516916.23\n",
       "7        Fruits & Vegetables    28345.36\n",
       "8       Gourmet & World Food  1500115.31\n",
       "9     Kitchen, Garden & Pets  1816938.12\n",
       "10    Snacks & Branded Foods   364675.08"
      ]
     },
     "execution_count": 14,
     "metadata": {},
     "output_type": "execute_result"
    }
   ],
   "source": [
    "data = pd.DataFrame(df.groupby('category')['sale_price'].sum()).reset_index()\n",
    "data.columns = ['category', 'profit']\n",
    "data"
   ]
  },
  {
   "cell_type": "code",
   "execution_count": 15,
   "id": "5db9df63",
   "metadata": {
    "execution": {
     "iopub.execute_input": "2022-08-30T15:32:00.219126Z",
     "iopub.status.busy": "2022-08-30T15:32:00.218294Z",
     "iopub.status.idle": "2022-08-30T15:32:00.514871Z",
     "shell.execute_reply": "2022-08-30T15:32:00.513548Z"
    },
    "papermill": {
     "duration": 0.316479,
     "end_time": "2022-08-30T15:32:00.517646",
     "exception": false,
     "start_time": "2022-08-30T15:32:00.201167",
     "status": "completed"
    },
    "tags": []
   },
   "outputs": [
    {
     "data": {
      "image/png": "[encoded data removed]",
      "text/plain": [
       "<Figure size 1008x288 with 1 Axes>"
      ]
     },
     "metadata": {},
     "output_type": "display_data"
    }
   ],
   "source": [
    "fig = plt.figure(figsize=(14,4))\n",
    "ax = fig.add_axes([0,0,1,1])\n",
    "sns.barplot(data = data, x = 'category', y = 'profit', palette='mako')\n",
    "plt.title('Categories Profit')\n",
    "plt.legend(bbox_to_anchor=(1.02, 1), loc='upper left', borderaxespad=0)\n",
    "ax.set_xlabel(\"Cateories\",fontsize=15, weight='semibold')\n",
    "ax.set_ylabel(\"Profit\",fontsize=15, weight='semibold')\n",
    "wrap_labels(ax, 10)"
   ]
  },
  {
   "cell_type": "markdown",
   "id": "5625a2b8",
   "metadata": {
    "papermill": {
     "duration": 0.01509,
     "end_time": "2022-08-30T15:32:00.547852",
     "exception": false,
     "start_time": "2022-08-30T15:32:00.532762",
     "status": "completed"
    },
    "tags": []
   },
   "source": [
    "**Notes:**\n",
    "> As **Beauty & Hygiene** category product's was sold a lot, it's profit is so big. And still **Eggs, Meat & Fish** is least profit as well."
   ]
  },
  {
   "cell_type": "markdown",
   "id": "beaaa723",
   "metadata": {
    "papermill": {
     "duration": 0.01489,
     "end_time": "2022-08-30T15:32:00.578045",
     "exception": false,
     "start_time": "2022-08-30T15:32:00.563155",
     "status": "completed"
    },
    "tags": []
   },
   "source": [
    "## 4. Which products have >= 4 ratting and it's categories ?!"
   ]
  },
  {
   "cell_type": "code",
   "execution_count": 16,
   "id": "dd171a72",
   "metadata": {
    "execution": {
     "iopub.execute_input": "2022-08-30T15:32:00.611469Z",
     "iopub.status.busy": "2022-08-30T15:32:00.610177Z",
     "iopub.status.idle": "2022-08-30T15:32:00.640043Z",
     "shell.execute_reply": "2022-08-30T15:32:00.638868Z"
    },
    "papermill": {
     "duration": 0.049475,
     "end_time": "2022-08-30T15:32:00.643065",
     "exception": false,
     "start_time": "2022-08-30T15:32:00.593590",
     "status": "completed"
    },
    "tags": []
   },
   "outputs": [
    {
     "data": {
      "text/html": [
       "<div>\n",
       "<style scoped>\n",
       "    .dataframe tbody tr th:only-of-type {\n",
       "        vertical-align: middle;\n",
       "    }\n",
       "\n",
       "    .dataframe tbody tr th {\n",
       "        vertical-align: top;\n",
       "    }\n",
       "\n",
       "    .dataframe thead th {\n",
       "        text-align: right;\n",
       "    }\n",
       "</style>\n",
       "<table border=\"1\" class=\"dataframe\">\n",
       "  <thead>\n",
       "    <tr style=\"text-align: right;\">\n",
       "      <th></th>\n",
       "      <th>index</th>\n",
       "      <th>product</th>\n",
       "      <th>category</th>\n",
       "      <th>sub_category</th>\n",
       "      <th>brand</th>\n",
       "      <th>sale_price</th>\n",
       "      <th>market_price</th>\n",
       "      <th>type</th>\n",
       "      <th>rating</th>\n",
       "      <th>description</th>\n",
       "    </tr>\n",
       "  </thead>\n",
       "  <tbody>\n",
       "    <tr>\n",
       "      <th>0</th>\n",
       "      <td>1</td>\n",
       "      <td>Garlic Oil - Vegetarian Capsule 500 mg</td>\n",
       "      <td>Beauty &amp; Hygiene</td>\n",
       "      <td>Hair Care</td>\n",
       "      <td>Sri Sri Ayurveda</td>\n",
       "      <td>220.00</td>\n",
       "      <td>220.0</td>\n",
       "      <td>Hair Oil &amp; Serum</td>\n",
       "      <td>4.1</td>\n",
       "      <td>This Product contains Garlic Oil that is known...</td>\n",
       "    </tr>\n",
       "    <tr>\n",
       "      <th>4</th>\n",
       "      <td>5</td>\n",
       "      <td>Creme Soft Soap - For Hands &amp; Body</td>\n",
       "      <td>Beauty &amp; Hygiene</td>\n",
       "      <td>Bath &amp; Hand Wash</td>\n",
       "      <td>Nivea</td>\n",
       "      <td>162.00</td>\n",
       "      <td>162.0</td>\n",
       "      <td>Bathing Bars &amp; Soaps</td>\n",
       "      <td>4.4</td>\n",
       "      <td>Nivea Creme Soft Soap gives your skin the best...</td>\n",
       "    </tr>\n",
       "    <tr>\n",
       "      <th>7</th>\n",
       "      <td>8</td>\n",
       "      <td>Hand Sanitizer - 70% Alcohol Base</td>\n",
       "      <td>Beauty &amp; Hygiene</td>\n",
       "      <td>Bath &amp; Hand Wash</td>\n",
       "      <td>Bionova</td>\n",
       "      <td>250.00</td>\n",
       "      <td>250.0</td>\n",
       "      <td>Hand Wash &amp; Sanitizers</td>\n",
       "      <td>4.0</td>\n",
       "      <td>70%Alcohol based is gentle of hand leaves skin...</td>\n",
       "    </tr>\n",
       "    <tr>\n",
       "      <th>9</th>\n",
       "      <td>10</td>\n",
       "      <td>Scrub Pad - Anti- Bacterial, Regular</td>\n",
       "      <td>Cleaning &amp; Household</td>\n",
       "      <td>Mops, Brushes &amp; Scrubs</td>\n",
       "      <td>Scotch brite</td>\n",
       "      <td>20.00</td>\n",
       "      <td>20.0</td>\n",
       "      <td>Utensil Scrub-Pad, Glove</td>\n",
       "      <td>4.3</td>\n",
       "      <td>Scotch Brite Anti- Bacterial Scrub Pad thoroug...</td>\n",
       "    </tr>\n",
       "    <tr>\n",
       "      <th>10</th>\n",
       "      <td>11</td>\n",
       "      <td>Wheat Grass Powder - Raw</td>\n",
       "      <td>Gourmet &amp; World Food</td>\n",
       "      <td>Cooking &amp; Baking Needs</td>\n",
       "      <td>NUTRASHIL</td>\n",
       "      <td>261.00</td>\n",
       "      <td>290.0</td>\n",
       "      <td>Flours &amp; Pre-Mixes</td>\n",
       "      <td>4.0</td>\n",
       "      <td>Wheatgrass is a superfood potent health food w...</td>\n",
       "    </tr>\n",
       "    <tr>\n",
       "      <th>...</th>\n",
       "      <td>...</td>\n",
       "      <td>...</td>\n",
       "      <td>...</td>\n",
       "      <td>...</td>\n",
       "      <td>...</td>\n",
       "      <td>...</td>\n",
       "      <td>...</td>\n",
       "      <td>...</td>\n",
       "      <td>...</td>\n",
       "      <td>...</td>\n",
       "    </tr>\n",
       "    <tr>\n",
       "      <th>27548</th>\n",
       "      <td>27549</td>\n",
       "      <td>Apple Cider Vinegar Shampoo</td>\n",
       "      <td>Beauty &amp; Hygiene</td>\n",
       "      <td>Hair Care</td>\n",
       "      <td>Morpheme Remedies</td>\n",
       "      <td>499.00</td>\n",
       "      <td>499.0</td>\n",
       "      <td>Shampoo &amp; Conditioner</td>\n",
       "      <td>5.0</td>\n",
       "      <td>Say no to dull, lifeless, dry and damaged hair...</td>\n",
       "    </tr>\n",
       "    <tr>\n",
       "      <th>27549</th>\n",
       "      <td>27550</td>\n",
       "      <td>Papad - Garlic Disco</td>\n",
       "      <td>Snacks &amp; Branded Foods</td>\n",
       "      <td>Ready To Cook &amp; Eat</td>\n",
       "      <td>Atish</td>\n",
       "      <td>61.00</td>\n",
       "      <td>61.0</td>\n",
       "      <td>Papads, Ready To Fry</td>\n",
       "      <td>4.0</td>\n",
       "      <td>Papads are prepared from urad dal flour and sp...</td>\n",
       "    </tr>\n",
       "    <tr>\n",
       "      <th>27551</th>\n",
       "      <td>27552</td>\n",
       "      <td>Rosemary</td>\n",
       "      <td>Gourmet &amp; World Food</td>\n",
       "      <td>Cooking &amp; Baking Needs</td>\n",
       "      <td>Puramate</td>\n",
       "      <td>67.50</td>\n",
       "      <td>75.0</td>\n",
       "      <td>Herbs, Seasonings &amp; Rubs</td>\n",
       "      <td>4.0</td>\n",
       "      <td>Puramate rosemary is enough to transform a dis...</td>\n",
       "    </tr>\n",
       "    <tr>\n",
       "      <th>27553</th>\n",
       "      <td>27554</td>\n",
       "      <td>Green Tea - Pure Original</td>\n",
       "      <td>Beverages</td>\n",
       "      <td>Tea</td>\n",
       "      <td>Tetley</td>\n",
       "      <td>396.00</td>\n",
       "      <td>495.0</td>\n",
       "      <td>Tea Bags</td>\n",
       "      <td>4.2</td>\n",
       "      <td>Tetley Green Tea with its refreshing pure, ori...</td>\n",
       "    </tr>\n",
       "    <tr>\n",
       "      <th>27554</th>\n",
       "      <td>27555</td>\n",
       "      <td>United Dreams Go Far Deodorant</td>\n",
       "      <td>Beauty &amp; Hygiene</td>\n",
       "      <td>Men's Grooming</td>\n",
       "      <td>United Colors Of Benetton</td>\n",
       "      <td>214.53</td>\n",
       "      <td>390.0</td>\n",
       "      <td>Men's Deodorants</td>\n",
       "      <td>4.5</td>\n",
       "      <td>The new mens fragrance from the United Dreams ...</td>\n",
       "    </tr>\n",
       "  </tbody>\n",
       "</table>\n",
       "<p>12354 rows × 10 columns</p>\n",
       "</div>"
      ],
      "text/plain": [
       "       index                                 product                category  \\\n",
       "0          1  Garlic Oil - Vegetarian Capsule 500 mg        Beauty & Hygiene   \n",
       "4          5      Creme Soft Soap - For Hands & Body        Beauty & Hygiene   \n",
       "7          8       Hand Sanitizer - 70% Alcohol Base        Beauty & Hygiene   \n",
       "9         10    Scrub Pad - Anti- Bacterial, Regular    Cleaning & Household   \n",
       "10        11                Wheat Grass Powder - Raw    Gourmet & World Food   \n",
       "...      ...                                     ...                     ...   \n",
       "27548  27549             Apple Cider Vinegar Shampoo        Beauty & Hygiene   \n",
       "27549  27550                    Papad - Garlic Disco  Snacks & Branded Foods   \n",
       "27551  27552                                Rosemary    Gourmet & World Food   \n",
       "27553  27554               Green Tea - Pure Original               Beverages   \n",
       "27554  27555          United Dreams Go Far Deodorant        Beauty & Hygiene   \n",
       "\n",
       "                 sub_category                       brand  sale_price  \\\n",
       "0                   Hair Care           Sri Sri Ayurveda       220.00   \n",
       "4            Bath & Hand Wash                       Nivea      162.00   \n",
       "7            Bath & Hand Wash                     Bionova      250.00   \n",
       "9      Mops, Brushes & Scrubs                Scotch brite       20.00   \n",
       "10     Cooking & Baking Needs                   NUTRASHIL      261.00   \n",
       "...                       ...                         ...         ...   \n",
       "27548               Hair Care           Morpheme Remedies      499.00   \n",
       "27549     Ready To Cook & Eat                      Atish        61.00   \n",
       "27551  Cooking & Baking Needs                    Puramate       67.50   \n",
       "27553                     Tea                      Tetley      396.00   \n",
       "27554          Men's Grooming  United Colors Of Benetton       214.53   \n",
       "\n",
       "       market_price                      type  rating  \\\n",
       "0             220.0          Hair Oil & Serum     4.1   \n",
       "4             162.0      Bathing Bars & Soaps     4.4   \n",
       "7             250.0    Hand Wash & Sanitizers     4.0   \n",
       "9              20.0  Utensil Scrub-Pad, Glove     4.3   \n",
       "10            290.0        Flours & Pre-Mixes     4.0   \n",
       "...             ...                       ...     ...   \n",
       "27548         499.0     Shampoo & Conditioner     5.0   \n",
       "27549          61.0      Papads, Ready To Fry     4.0   \n",
       "27551          75.0  Herbs, Seasonings & Rubs     4.0   \n",
       "27553         495.0                  Tea Bags     4.2   \n",
       "27554         390.0          Men's Deodorants     4.5   \n",
       "\n",
       "                                             description  \n",
       "0      This Product contains Garlic Oil that is known...  \n",
       "4      Nivea Creme Soft Soap gives your skin the best...  \n",
       "7      70%Alcohol based is gentle of hand leaves skin...  \n",
       "9      Scotch Brite Anti- Bacterial Scrub Pad thoroug...  \n",
       "10     Wheatgrass is a superfood potent health food w...  \n",
       "...                                                  ...  \n",
       "27548  Say no to dull, lifeless, dry and damaged hair...  \n",
       "27549  Papads are prepared from urad dal flour and sp...  \n",
       "27551  Puramate rosemary is enough to transform a dis...  \n",
       "27553  Tetley Green Tea with its refreshing pure, ori...  \n",
       "27554  The new mens fragrance from the United Dreams ...  \n",
       "\n",
       "[12354 rows x 10 columns]"
      ]
     },
     "execution_count": 16,
     "metadata": {},
     "output_type": "execute_result"
    }
   ],
   "source": [
    "data = df[df['rating'] >= 4]\n",
    "data"
   ]
  },
  {
   "cell_type": "markdown",
   "id": "b054b6e7",
   "metadata": {
    "papermill": {
     "duration": 0.015248,
     "end_time": "2022-08-30T15:32:00.674749",
     "exception": false,
     "start_time": "2022-08-30T15:32:00.659501",
     "status": "completed"
    },
    "tags": []
   },
   "source": [
    "## 5.1. What is count percentage between discounted products and original sale price products ?!"
   ]
  },
  {
   "cell_type": "markdown",
   "id": "0c8c1040",
   "metadata": {
    "papermill": {
     "duration": 0.016339,
     "end_time": "2022-08-30T15:32:00.707404",
     "exception": false,
     "start_time": "2022-08-30T15:32:00.691065",
     "status": "completed"
    },
    "tags": []
   },
   "source": [
    "### First we need to determine discounted products in our dataset"
   ]
  },
  {
   "cell_type": "code",
   "execution_count": 17,
   "id": "d9353be0",
   "metadata": {
    "execution": {
     "iopub.execute_input": "2022-08-30T15:32:00.741643Z",
     "iopub.status.busy": "2022-08-30T15:32:00.741186Z",
     "iopub.status.idle": "2022-08-30T15:32:01.197501Z",
     "shell.execute_reply": "2022-08-30T15:32:01.196196Z"
    },
    "papermill": {
     "duration": 0.476963,
     "end_time": "2022-08-30T15:32:01.200359",
     "exception": false,
     "start_time": "2022-08-30T15:32:00.723396",
     "status": "completed"
    },
    "tags": []
   },
   "outputs": [
    {
     "data": {
      "text/html": [
       "<div>\n",
       "<style scoped>\n",
       "    .dataframe tbody tr th:only-of-type {\n",
       "        vertical-align: middle;\n",
       "    }\n",
       "\n",
       "    .dataframe tbody tr th {\n",
       "        vertical-align: top;\n",
       "    }\n",
       "\n",
       "    .dataframe thead th {\n",
       "        text-align: right;\n",
       "    }\n",
       "</style>\n",
       "<table border=\"1\" class=\"dataframe\">\n",
       "  <thead>\n",
       "    <tr style=\"text-align: right;\">\n",
       "      <th></th>\n",
       "      <th>index</th>\n",
       "      <th>product</th>\n",
       "      <th>category</th>\n",
       "      <th>sub_category</th>\n",
       "      <th>brand</th>\n",
       "      <th>sale_price</th>\n",
       "      <th>market_price</th>\n",
       "      <th>type</th>\n",
       "      <th>rating</th>\n",
       "      <th>description</th>\n",
       "      <th>is_discount_product</th>\n",
       "    </tr>\n",
       "  </thead>\n",
       "  <tbody>\n",
       "    <tr>\n",
       "      <th>0</th>\n",
       "      <td>1</td>\n",
       "      <td>Garlic Oil - Vegetarian Capsule 500 mg</td>\n",
       "      <td>Beauty &amp; Hygiene</td>\n",
       "      <td>Hair Care</td>\n",
       "      <td>Sri Sri Ayurveda</td>\n",
       "      <td>220.00</td>\n",
       "      <td>220.0</td>\n",
       "      <td>Hair Oil &amp; Serum</td>\n",
       "      <td>4.1</td>\n",
       "      <td>This Product contains Garlic Oil that is known...</td>\n",
       "      <td>False</td>\n",
       "    </tr>\n",
       "    <tr>\n",
       "      <th>1</th>\n",
       "      <td>2</td>\n",
       "      <td>Water Bottle - Orange</td>\n",
       "      <td>Kitchen, Garden &amp; Pets</td>\n",
       "      <td>Storage &amp; Accessories</td>\n",
       "      <td>Mastercook</td>\n",
       "      <td>180.00</td>\n",
       "      <td>180.0</td>\n",
       "      <td>Water &amp; Fridge Bottles</td>\n",
       "      <td>2.3</td>\n",
       "      <td>Each product is microwave safe (without lid), ...</td>\n",
       "      <td>False</td>\n",
       "    </tr>\n",
       "    <tr>\n",
       "      <th>2</th>\n",
       "      <td>3</td>\n",
       "      <td>Brass Angle Deep - Plain, No.2</td>\n",
       "      <td>Cleaning &amp; Household</td>\n",
       "      <td>Pooja Needs</td>\n",
       "      <td>Trm</td>\n",
       "      <td>119.00</td>\n",
       "      <td>250.0</td>\n",
       "      <td>Lamp &amp; Lamp Oil</td>\n",
       "      <td>3.4</td>\n",
       "      <td>A perfect gift for all occasions, be it your m...</td>\n",
       "      <td>True</td>\n",
       "    </tr>\n",
       "    <tr>\n",
       "      <th>3</th>\n",
       "      <td>4</td>\n",
       "      <td>Cereal Flip Lid Container/Storage Jar - Assort...</td>\n",
       "      <td>Cleaning &amp; Household</td>\n",
       "      <td>Bins &amp; Bathroom Ware</td>\n",
       "      <td>Nakoda</td>\n",
       "      <td>149.00</td>\n",
       "      <td>176.0</td>\n",
       "      <td>Laundry, Storage Baskets</td>\n",
       "      <td>3.7</td>\n",
       "      <td>Multipurpose container with an attractive desi...</td>\n",
       "      <td>True</td>\n",
       "    </tr>\n",
       "    <tr>\n",
       "      <th>4</th>\n",
       "      <td>5</td>\n",
       "      <td>Creme Soft Soap - For Hands &amp; Body</td>\n",
       "      <td>Beauty &amp; Hygiene</td>\n",
       "      <td>Bath &amp; Hand Wash</td>\n",
       "      <td>Nivea</td>\n",
       "      <td>162.00</td>\n",
       "      <td>162.0</td>\n",
       "      <td>Bathing Bars &amp; Soaps</td>\n",
       "      <td>4.4</td>\n",
       "      <td>Nivea Creme Soft Soap gives your skin the best...</td>\n",
       "      <td>False</td>\n",
       "    </tr>\n",
       "    <tr>\n",
       "      <th>...</th>\n",
       "      <td>...</td>\n",
       "      <td>...</td>\n",
       "      <td>...</td>\n",
       "      <td>...</td>\n",
       "      <td>...</td>\n",
       "      <td>...</td>\n",
       "      <td>...</td>\n",
       "      <td>...</td>\n",
       "      <td>...</td>\n",
       "      <td>...</td>\n",
       "      <td>...</td>\n",
       "    </tr>\n",
       "    <tr>\n",
       "      <th>27550</th>\n",
       "      <td>27551</td>\n",
       "      <td>Wottagirl! Perfume Spray - Heaven, Classic</td>\n",
       "      <td>Beauty &amp; Hygiene</td>\n",
       "      <td>Fragrances &amp; Deos</td>\n",
       "      <td>Layerr</td>\n",
       "      <td>199.20</td>\n",
       "      <td>249.0</td>\n",
       "      <td>Perfume</td>\n",
       "      <td>3.9</td>\n",
       "      <td>Layerr brings you Wottagirl Classic fragrant b...</td>\n",
       "      <td>True</td>\n",
       "    </tr>\n",
       "    <tr>\n",
       "      <th>27551</th>\n",
       "      <td>27552</td>\n",
       "      <td>Rosemary</td>\n",
       "      <td>Gourmet &amp; World Food</td>\n",
       "      <td>Cooking &amp; Baking Needs</td>\n",
       "      <td>Puramate</td>\n",
       "      <td>67.50</td>\n",
       "      <td>75.0</td>\n",
       "      <td>Herbs, Seasonings &amp; Rubs</td>\n",
       "      <td>4.0</td>\n",
       "      <td>Puramate rosemary is enough to transform a dis...</td>\n",
       "      <td>True</td>\n",
       "    </tr>\n",
       "    <tr>\n",
       "      <th>27552</th>\n",
       "      <td>27553</td>\n",
       "      <td>Peri-Peri Sweet Potato Chips</td>\n",
       "      <td>Gourmet &amp; World Food</td>\n",
       "      <td>Snacks, Dry Fruits, Nuts</td>\n",
       "      <td>FabBox</td>\n",
       "      <td>200.00</td>\n",
       "      <td>200.0</td>\n",
       "      <td>Nachos &amp; Chips</td>\n",
       "      <td>3.8</td>\n",
       "      <td>We have taken the richness of Sweet Potatoes (...</td>\n",
       "      <td>False</td>\n",
       "    </tr>\n",
       "    <tr>\n",
       "      <th>27553</th>\n",
       "      <td>27554</td>\n",
       "      <td>Green Tea - Pure Original</td>\n",
       "      <td>Beverages</td>\n",
       "      <td>Tea</td>\n",
       "      <td>Tetley</td>\n",
       "      <td>396.00</td>\n",
       "      <td>495.0</td>\n",
       "      <td>Tea Bags</td>\n",
       "      <td>4.2</td>\n",
       "      <td>Tetley Green Tea with its refreshing pure, ori...</td>\n",
       "      <td>True</td>\n",
       "    </tr>\n",
       "    <tr>\n",
       "      <th>27554</th>\n",
       "      <td>27555</td>\n",
       "      <td>United Dreams Go Far Deodorant</td>\n",
       "      <td>Beauty &amp; Hygiene</td>\n",
       "      <td>Men's Grooming</td>\n",
       "      <td>United Colors Of Benetton</td>\n",
       "      <td>214.53</td>\n",
       "      <td>390.0</td>\n",
       "      <td>Men's Deodorants</td>\n",
       "      <td>4.5</td>\n",
       "      <td>The new mens fragrance from the United Dreams ...</td>\n",
       "      <td>True</td>\n",
       "    </tr>\n",
       "  </tbody>\n",
       "</table>\n",
       "<p>27555 rows × 11 columns</p>\n",
       "</div>"
      ],
      "text/plain": [
       "       index                                            product  \\\n",
       "0          1             Garlic Oil - Vegetarian Capsule 500 mg   \n",
       "1          2                              Water Bottle - Orange   \n",
       "2          3                     Brass Angle Deep - Plain, No.2   \n",
       "3          4  Cereal Flip Lid Container/Storage Jar - Assort...   \n",
       "4          5                 Creme Soft Soap - For Hands & Body   \n",
       "...      ...                                                ...   \n",
       "27550  27551         Wottagirl! Perfume Spray - Heaven, Classic   \n",
       "27551  27552                                           Rosemary   \n",
       "27552  27553                       Peri-Peri Sweet Potato Chips   \n",
       "27553  27554                          Green Tea - Pure Original   \n",
       "27554  27555                     United Dreams Go Far Deodorant   \n",
       "\n",
       "                     category              sub_category  \\\n",
       "0            Beauty & Hygiene                 Hair Care   \n",
       "1      Kitchen, Garden & Pets     Storage & Accessories   \n",
       "2        Cleaning & Household               Pooja Needs   \n",
       "3        Cleaning & Household      Bins & Bathroom Ware   \n",
       "4            Beauty & Hygiene          Bath & Hand Wash   \n",
       "...                       ...                       ...   \n",
       "27550        Beauty & Hygiene         Fragrances & Deos   \n",
       "27551    Gourmet & World Food    Cooking & Baking Needs   \n",
       "27552    Gourmet & World Food  Snacks, Dry Fruits, Nuts   \n",
       "27553               Beverages                       Tea   \n",
       "27554        Beauty & Hygiene            Men's Grooming   \n",
       "\n",
       "                            brand  sale_price  market_price  \\\n",
       "0               Sri Sri Ayurveda       220.00         220.0   \n",
       "1                      Mastercook      180.00         180.0   \n",
       "2                             Trm      119.00         250.0   \n",
       "3                          Nakoda      149.00         176.0   \n",
       "4                           Nivea      162.00         162.0   \n",
       "...                           ...         ...           ...   \n",
       "27550                      Layerr      199.20         249.0   \n",
       "27551                    Puramate       67.50          75.0   \n",
       "27552                      FabBox      200.00         200.0   \n",
       "27553                      Tetley      396.00         495.0   \n",
       "27554  United Colors Of Benetton       214.53         390.0   \n",
       "\n",
       "                           type  rating  \\\n",
       "0              Hair Oil & Serum     4.1   \n",
       "1        Water & Fridge Bottles     2.3   \n",
       "2               Lamp & Lamp Oil     3.4   \n",
       "3      Laundry, Storage Baskets     3.7   \n",
       "4          Bathing Bars & Soaps     4.4   \n",
       "...                         ...     ...   \n",
       "27550                   Perfume     3.9   \n",
       "27551  Herbs, Seasonings & Rubs     4.0   \n",
       "27552            Nachos & Chips     3.8   \n",
       "27553                  Tea Bags     4.2   \n",
       "27554          Men's Deodorants     4.5   \n",
       "\n",
       "                                             description  is_discount_product  \n",
       "0      This Product contains Garlic Oil that is known...                False  \n",
       "1      Each product is microwave safe (without lid), ...                False  \n",
       "2      A perfect gift for all occasions, be it your m...                 True  \n",
       "3      Multipurpose container with an attractive desi...                 True  \n",
       "4      Nivea Creme Soft Soap gives your skin the best...                False  \n",
       "...                                                  ...                  ...  \n",
       "27550  Layerr brings you Wottagirl Classic fragrant b...                 True  \n",
       "27551  Puramate rosemary is enough to transform a dis...                 True  \n",
       "27552  We have taken the richness of Sweet Potatoes (...                False  \n",
       "27553  Tetley Green Tea with its refreshing pure, ori...                 True  \n",
       "27554  The new mens fragrance from the United Dreams ...                 True  \n",
       "\n",
       "[27555 rows x 11 columns]"
      ]
     },
     "execution_count": 17,
     "metadata": {},
     "output_type": "execute_result"
    }
   ],
   "source": [
    "def is_discount_product(data):\n",
    "    return ((data['market_price'] - data['sale_price']) != 0)\n",
    "\n",
    "df['is_discount_product'] = df[['sale_price', 'market_price']].apply(is_discount_product, axis = 1)\n",
    "df"
   ]
  },
  {
   "cell_type": "code",
   "execution_count": 18,
   "id": "afe109fe",
   "metadata": {
    "execution": {
     "iopub.execute_input": "2022-08-30T15:32:01.241141Z",
     "iopub.status.busy": "2022-08-30T15:32:01.240413Z",
     "iopub.status.idle": "2022-08-30T15:32:01.249163Z",
     "shell.execute_reply": "2022-08-30T15:32:01.248229Z"
    },
    "papermill": {
     "duration": 0.034043,
     "end_time": "2022-08-30T15:32:01.251349",
     "exception": false,
     "start_time": "2022-08-30T15:32:01.217306",
     "status": "completed"
    },
    "tags": []
   },
   "outputs": [
    {
     "data": {
      "text/plain": [
       "True     15229\n",
       "False    12326\n",
       "Name: is_discount_product, dtype: int64"
      ]
     },
     "execution_count": 18,
     "metadata": {},
     "output_type": "execute_result"
    }
   ],
   "source": [
    "df['is_discount_product'].value_counts()"
   ]
  },
  {
   "cell_type": "code",
   "execution_count": 19,
   "id": "519c63f2",
   "metadata": {
    "execution": {
     "iopub.execute_input": "2022-08-30T15:32:01.285882Z",
     "iopub.status.busy": "2022-08-30T15:32:01.285255Z",
     "iopub.status.idle": "2022-08-30T15:32:01.503323Z",
     "shell.execute_reply": "2022-08-30T15:32:01.502356Z"
    },
    "papermill": {
     "duration": 0.239281,
     "end_time": "2022-08-30T15:32:01.506966",
     "exception": false,
     "start_time": "2022-08-30T15:32:01.267685",
     "status": "completed"
    },
    "tags": []
   },
   "outputs": [
    {
     "data": {
      "image/png": "[encoded data removed]",
      "text/plain": [
       "<Figure size 1008x576 with 1 Axes>"
      ]
     },
     "metadata": {},
     "output_type": "display_data"
    }
   ],
   "source": [
    "fig = plt.figure(figsize=(14,8))\n",
    "ax = fig.add_axes([0,0,1,1])\n",
    "sns.countplot(data = df, x = 'is_discount_product', palette='mako')\n",
    "plt.title('Discount Vs. Original Sale Price')\n",
    "ax.set_xlabel(\"Discount or Not\",fontsize=15, weight='semibold')\n",
    "ax.set_ylabel(\"Count\",fontsize=15, weight='semibold')\n",
    "wrap_labels(ax, 10)"
   ]
  },
  {
   "cell_type": "markdown",
   "id": "0ba07d3b",
   "metadata": {
    "papermill": {
     "duration": 0.020451,
     "end_time": "2022-08-30T15:32:01.549968",
     "exception": false,
     "start_time": "2022-08-30T15:32:01.529517",
     "status": "completed"
    },
    "tags": []
   },
   "source": [
    "**Note:**\n",
    "> As we see the percentage of **discount products** is more than **original products** sale price."
   ]
  },
  {
   "cell_type": "markdown",
   "id": "dd63bf67",
   "metadata": {
    "papermill": {
     "duration": 0.020374,
     "end_time": "2022-08-30T15:32:01.593960",
     "exception": false,
     "start_time": "2022-08-30T15:32:01.573586",
     "status": "completed"
    },
    "tags": []
   },
   "source": [
    "## 5.2. What is profit percentage discounted products and original sale price products ?!"
   ]
  },
  {
   "cell_type": "markdown",
   "id": "4b89960b",
   "metadata": {
    "papermill": {
     "duration": 0.016475,
     "end_time": "2022-08-30T15:32:01.627176",
     "exception": false,
     "start_time": "2022-08-30T15:32:01.610701",
     "status": "completed"
    },
    "tags": []
   },
   "source": [
    "### As we already created **is_discount_product** feature we start coding."
   ]
  },
  {
   "cell_type": "code",
   "execution_count": 20,
   "id": "cfca5e36",
   "metadata": {
    "execution": {
     "iopub.execute_input": "2022-08-30T15:32:01.664339Z",
     "iopub.status.busy": "2022-08-30T15:32:01.663775Z",
     "iopub.status.idle": "2022-08-30T15:32:01.737345Z",
     "shell.execute_reply": "2022-08-30T15:32:01.734960Z"
    },
    "papermill": {
     "duration": 0.095615,
     "end_time": "2022-08-30T15:32:01.740086",
     "exception": false,
     "start_time": "2022-08-30T15:32:01.644471",
     "status": "completed"
    },
    "tags": []
   },
   "outputs": [
    {
     "data": {
      "text/html": [
       "<div>\n",
       "<style scoped>\n",
       "    .dataframe tbody tr th:only-of-type {\n",
       "        vertical-align: middle;\n",
       "    }\n",
       "\n",
       "    .dataframe tbody tr th {\n",
       "        vertical-align: top;\n",
       "    }\n",
       "\n",
       "    .dataframe thead th {\n",
       "        text-align: right;\n",
       "    }\n",
       "</style>\n",
       "<table border=\"1\" class=\"dataframe\">\n",
       "  <thead>\n",
       "    <tr style=\"text-align: right;\">\n",
       "      <th>is_discount_product</th>\n",
       "      <th>False</th>\n",
       "      <th>True</th>\n",
       "    </tr>\n",
       "  </thead>\n",
       "  <tbody>\n",
       "    <tr>\n",
       "      <th>count</th>\n",
       "      <td>12326.000000</td>\n",
       "      <td>15229.000000</td>\n",
       "    </tr>\n",
       "    <tr>\n",
       "      <th>mean</th>\n",
       "      <td>316.000840</td>\n",
       "      <td>327.787063</td>\n",
       "    </tr>\n",
       "    <tr>\n",
       "      <th>std</th>\n",
       "      <td>503.230414</td>\n",
       "      <td>472.034699</td>\n",
       "    </tr>\n",
       "    <tr>\n",
       "      <th>min</th>\n",
       "      <td>3.000000</td>\n",
       "      <td>2.450000</td>\n",
       "    </tr>\n",
       "    <tr>\n",
       "      <th>25%</th>\n",
       "      <td>89.000000</td>\n",
       "      <td>99.000000</td>\n",
       "    </tr>\n",
       "    <tr>\n",
       "      <th>50%</th>\n",
       "      <td>190.000000</td>\n",
       "      <td>191.040000</td>\n",
       "    </tr>\n",
       "    <tr>\n",
       "      <th>75%</th>\n",
       "      <td>350.000000</td>\n",
       "      <td>362.360000</td>\n",
       "    </tr>\n",
       "    <tr>\n",
       "      <th>max</th>\n",
       "      <td>12500.000000</td>\n",
       "      <td>8184.440000</td>\n",
       "    </tr>\n",
       "  </tbody>\n",
       "</table>\n",
       "</div>"
      ],
      "text/plain": [
       "is_discount_product         False          True\n",
       "count                12326.000000  15229.000000\n",
       "mean                   316.000840    327.787063\n",
       "std                    503.230414    472.034699\n",
       "min                      3.000000      2.450000\n",
       "25%                     89.000000     99.000000\n",
       "50%                    190.000000    191.040000\n",
       "75%                    350.000000    362.360000\n",
       "max                  12500.000000   8184.440000"
      ]
     },
     "execution_count": 20,
     "metadata": {},
     "output_type": "execute_result"
    }
   ],
   "source": [
    "df.groupby('is_discount_product').describe()['sale_price'].T"
   ]
  },
  {
   "cell_type": "code",
   "execution_count": 21,
   "id": "ea0474e5",
   "metadata": {
    "execution": {
     "iopub.execute_input": "2022-08-30T15:32:01.778389Z",
     "iopub.status.busy": "2022-08-30T15:32:01.777441Z",
     "iopub.status.idle": "2022-08-30T15:32:01.795463Z",
     "shell.execute_reply": "2022-08-30T15:32:01.794250Z"
    },
    "papermill": {
     "duration": 0.039824,
     "end_time": "2022-08-30T15:32:01.798056",
     "exception": false,
     "start_time": "2022-08-30T15:32:01.758232",
     "status": "completed"
    },
    "tags": []
   },
   "outputs": [
    {
     "data": {
      "text/html": [
       "<div>\n",
       "<style scoped>\n",
       "    .dataframe tbody tr th:only-of-type {\n",
       "        vertical-align: middle;\n",
       "    }\n",
       "\n",
       "    .dataframe tbody tr th {\n",
       "        vertical-align: top;\n",
       "    }\n",
       "\n",
       "    .dataframe thead th {\n",
       "        text-align: right;\n",
       "    }\n",
       "</style>\n",
       "<table border=\"1\" class=\"dataframe\">\n",
       "  <thead>\n",
       "    <tr style=\"text-align: right;\">\n",
       "      <th></th>\n",
       "      <th>is_discount_product</th>\n",
       "      <th>profit</th>\n",
       "    </tr>\n",
       "  </thead>\n",
       "  <tbody>\n",
       "    <tr>\n",
       "      <th>0</th>\n",
       "      <td>False</td>\n",
       "      <td>3895026.35</td>\n",
       "    </tr>\n",
       "    <tr>\n",
       "      <th>1</th>\n",
       "      <td>True</td>\n",
       "      <td>4991869.18</td>\n",
       "    </tr>\n",
       "  </tbody>\n",
       "</table>\n",
       "</div>"
      ],
      "text/plain": [
       "   is_discount_product      profit\n",
       "0                False  3895026.35\n",
       "1                 True  4991869.18"
      ]
     },
     "execution_count": 21,
     "metadata": {},
     "output_type": "execute_result"
    }
   ],
   "source": [
    "data = pd.DataFrame(df.groupby('is_discount_product')['sale_price'].sum()).reset_index()\n",
    "data.columns = ['is_discount_product', 'profit']\n",
    "data"
   ]
  },
  {
   "cell_type": "code",
   "execution_count": 22,
   "id": "54c15902",
   "metadata": {
    "execution": {
     "iopub.execute_input": "2022-08-30T15:32:01.841187Z",
     "iopub.status.busy": "2022-08-30T15:32:01.840768Z",
     "iopub.status.idle": "2022-08-30T15:32:02.079641Z",
     "shell.execute_reply": "2022-08-30T15:32:02.077883Z"
    },
    "papermill": {
     "duration": 0.263314,
     "end_time": "2022-08-30T15:32:02.083040",
     "exception": false,
     "start_time": "2022-08-30T15:32:01.819726",
     "status": "completed"
    },
    "tags": []
   },
   "outputs": [
    {
     "data": {
      "image/png": "[encoded data removed]",
      "text/plain": [
       "<Figure size 1008x576 with 1 Axes>"
      ]
     },
     "metadata": {},
     "output_type": "display_data"
    }
   ],
   "source": [
    "fig = plt.figure(figsize=(14,8))\n",
    "ax = fig.add_axes([0,0,1,1])\n",
    "sns.barplot(data = data, x = 'is_discount_product', y = 'profit', palette='mako')\n",
    "plt.title('Discount Vs. Original Sale Price')\n",
    "ax.set_xlabel(\"Discount or Not\",fontsize=15, weight='semibold')\n",
    "ax.set_ylabel(\"Profit\",fontsize=15, weight='semibold')\n",
    "wrap_labels(ax, 10)"
   ]
  },
  {
   "cell_type": "markdown",
   "id": "84c0e683",
   "metadata": {
    "papermill": {
     "duration": 0.017602,
     "end_time": "2022-08-30T15:32:02.124992",
     "exception": false,
     "start_time": "2022-08-30T15:32:02.107390",
     "status": "completed"
    },
    "tags": []
   },
   "source": [
    "**Note:**\n",
    "> **Discount Products** gives much more money than **Original Products** sale price so we may need to expand offers in other products. \n",
    "> * And from that we can tell that there is a relationship between discount on products and total profit."
   ]
  },
  {
   "cell_type": "markdown",
   "id": "81685c9d",
   "metadata": {
    "papermill": {
     "duration": 0.018629,
     "end_time": "2022-08-30T15:32:02.162807",
     "exception": false,
     "start_time": "2022-08-30T15:32:02.144178",
     "status": "completed"
    },
    "tags": []
   },
   "source": [
    "## 6. Is there a relationship between ratting and sale_price ?!\n"
   ]
  },
  {
   "cell_type": "code",
   "execution_count": 23,
   "id": "2279e4f1",
   "metadata": {
    "execution": {
     "iopub.execute_input": "2022-08-30T15:32:02.202596Z",
     "iopub.status.busy": "2022-08-30T15:32:02.201833Z",
     "iopub.status.idle": "2022-08-30T15:32:02.232830Z",
     "shell.execute_reply": "2022-08-30T15:32:02.231557Z"
    },
    "papermill": {
     "duration": 0.053259,
     "end_time": "2022-08-30T15:32:02.235420",
     "exception": false,
     "start_time": "2022-08-30T15:32:02.182161",
     "status": "completed"
    },
    "tags": []
   },
   "outputs": [
    {
     "data": {
      "text/html": [
       "<div>\n",
       "<style scoped>\n",
       "    .dataframe tbody tr th:only-of-type {\n",
       "        vertical-align: middle;\n",
       "    }\n",
       "\n",
       "    .dataframe tbody tr th {\n",
       "        vertical-align: top;\n",
       "    }\n",
       "\n",
       "    .dataframe thead th {\n",
       "        text-align: right;\n",
       "    }\n",
       "</style>\n",
       "<table border=\"1\" class=\"dataframe\">\n",
       "  <thead>\n",
       "    <tr style=\"text-align: right;\">\n",
       "      <th></th>\n",
       "      <th>index</th>\n",
       "      <th>product</th>\n",
       "      <th>category</th>\n",
       "      <th>sub_category</th>\n",
       "      <th>brand</th>\n",
       "      <th>sale_price</th>\n",
       "      <th>market_price</th>\n",
       "      <th>type</th>\n",
       "      <th>rating</th>\n",
       "      <th>description</th>\n",
       "      <th>is_discount_product</th>\n",
       "    </tr>\n",
       "  </thead>\n",
       "  <tbody>\n",
       "    <tr>\n",
       "      <th>2</th>\n",
       "      <td>3</td>\n",
       "      <td>Brass Angle Deep - Plain, No.2</td>\n",
       "      <td>Cleaning &amp; Household</td>\n",
       "      <td>Pooja Needs</td>\n",
       "      <td>Trm</td>\n",
       "      <td>119.00</td>\n",
       "      <td>250.0</td>\n",
       "      <td>Lamp &amp; Lamp Oil</td>\n",
       "      <td>3.4</td>\n",
       "      <td>A perfect gift for all occasions, be it your m...</td>\n",
       "      <td>True</td>\n",
       "    </tr>\n",
       "    <tr>\n",
       "      <th>3</th>\n",
       "      <td>4</td>\n",
       "      <td>Cereal Flip Lid Container/Storage Jar - Assort...</td>\n",
       "      <td>Cleaning &amp; Household</td>\n",
       "      <td>Bins &amp; Bathroom Ware</td>\n",
       "      <td>Nakoda</td>\n",
       "      <td>149.00</td>\n",
       "      <td>176.0</td>\n",
       "      <td>Laundry, Storage Baskets</td>\n",
       "      <td>3.7</td>\n",
       "      <td>Multipurpose container with an attractive desi...</td>\n",
       "      <td>True</td>\n",
       "    </tr>\n",
       "    <tr>\n",
       "      <th>5</th>\n",
       "      <td>6</td>\n",
       "      <td>Germ - Removal Multipurpose Wipes</td>\n",
       "      <td>Cleaning &amp; Household</td>\n",
       "      <td>All Purpose Cleaners</td>\n",
       "      <td>Nature Protect</td>\n",
       "      <td>169.00</td>\n",
       "      <td>199.0</td>\n",
       "      <td>Disinfectant Spray &amp; Cleaners</td>\n",
       "      <td>3.3</td>\n",
       "      <td>Stay protected from contamination with Multipu...</td>\n",
       "      <td>True</td>\n",
       "    </tr>\n",
       "    <tr>\n",
       "      <th>10</th>\n",
       "      <td>11</td>\n",
       "      <td>Wheat Grass Powder - Raw</td>\n",
       "      <td>Gourmet &amp; World Food</td>\n",
       "      <td>Cooking &amp; Baking Needs</td>\n",
       "      <td>NUTRASHIL</td>\n",
       "      <td>261.00</td>\n",
       "      <td>290.0</td>\n",
       "      <td>Flours &amp; Pre-Mixes</td>\n",
       "      <td>4.0</td>\n",
       "      <td>Wheatgrass is a superfood potent health food w...</td>\n",
       "      <td>True</td>\n",
       "    </tr>\n",
       "    <tr>\n",
       "      <th>15</th>\n",
       "      <td>16</td>\n",
       "      <td>Dove Plastic Soap Case - Assorted Colour</td>\n",
       "      <td>Cleaning &amp; Household</td>\n",
       "      <td>Bins &amp; Bathroom Ware</td>\n",
       "      <td>Nakoda</td>\n",
       "      <td>49.00</td>\n",
       "      <td>59.0</td>\n",
       "      <td>Soap Cases &amp; Dispensers</td>\n",
       "      <td>4.0</td>\n",
       "      <td>This soap case is made of virgin plastic which...</td>\n",
       "      <td>True</td>\n",
       "    </tr>\n",
       "    <tr>\n",
       "      <th>...</th>\n",
       "      <td>...</td>\n",
       "      <td>...</td>\n",
       "      <td>...</td>\n",
       "      <td>...</td>\n",
       "      <td>...</td>\n",
       "      <td>...</td>\n",
       "      <td>...</td>\n",
       "      <td>...</td>\n",
       "      <td>...</td>\n",
       "      <td>...</td>\n",
       "      <td>...</td>\n",
       "    </tr>\n",
       "    <tr>\n",
       "      <th>27546</th>\n",
       "      <td>27547</td>\n",
       "      <td>Organic Powder - Garam Masala</td>\n",
       "      <td>Foodgrains, Oil &amp; Masala</td>\n",
       "      <td>Organic Staples</td>\n",
       "      <td>Organic Tattva</td>\n",
       "      <td>152.00</td>\n",
       "      <td>160.0</td>\n",
       "      <td>Organic Masalas &amp; Spices</td>\n",
       "      <td>4.2</td>\n",
       "      <td>Organic Tattva Garam masala is a famous spice ...</td>\n",
       "      <td>True</td>\n",
       "    </tr>\n",
       "    <tr>\n",
       "      <th>27550</th>\n",
       "      <td>27551</td>\n",
       "      <td>Wottagirl! Perfume Spray - Heaven, Classic</td>\n",
       "      <td>Beauty &amp; Hygiene</td>\n",
       "      <td>Fragrances &amp; Deos</td>\n",
       "      <td>Layerr</td>\n",
       "      <td>199.20</td>\n",
       "      <td>249.0</td>\n",
       "      <td>Perfume</td>\n",
       "      <td>3.9</td>\n",
       "      <td>Layerr brings you Wottagirl Classic fragrant b...</td>\n",
       "      <td>True</td>\n",
       "    </tr>\n",
       "    <tr>\n",
       "      <th>27551</th>\n",
       "      <td>27552</td>\n",
       "      <td>Rosemary</td>\n",
       "      <td>Gourmet &amp; World Food</td>\n",
       "      <td>Cooking &amp; Baking Needs</td>\n",
       "      <td>Puramate</td>\n",
       "      <td>67.50</td>\n",
       "      <td>75.0</td>\n",
       "      <td>Herbs, Seasonings &amp; Rubs</td>\n",
       "      <td>4.0</td>\n",
       "      <td>Puramate rosemary is enough to transform a dis...</td>\n",
       "      <td>True</td>\n",
       "    </tr>\n",
       "    <tr>\n",
       "      <th>27553</th>\n",
       "      <td>27554</td>\n",
       "      <td>Green Tea - Pure Original</td>\n",
       "      <td>Beverages</td>\n",
       "      <td>Tea</td>\n",
       "      <td>Tetley</td>\n",
       "      <td>396.00</td>\n",
       "      <td>495.0</td>\n",
       "      <td>Tea Bags</td>\n",
       "      <td>4.2</td>\n",
       "      <td>Tetley Green Tea with its refreshing pure, ori...</td>\n",
       "      <td>True</td>\n",
       "    </tr>\n",
       "    <tr>\n",
       "      <th>27554</th>\n",
       "      <td>27555</td>\n",
       "      <td>United Dreams Go Far Deodorant</td>\n",
       "      <td>Beauty &amp; Hygiene</td>\n",
       "      <td>Men's Grooming</td>\n",
       "      <td>United Colors Of Benetton</td>\n",
       "      <td>214.53</td>\n",
       "      <td>390.0</td>\n",
       "      <td>Men's Deodorants</td>\n",
       "      <td>4.5</td>\n",
       "      <td>The new mens fragrance from the United Dreams ...</td>\n",
       "      <td>True</td>\n",
       "    </tr>\n",
       "  </tbody>\n",
       "</table>\n",
       "<p>15229 rows × 11 columns</p>\n",
       "</div>"
      ],
      "text/plain": [
       "       index                                            product  \\\n",
       "2          3                     Brass Angle Deep - Plain, No.2   \n",
       "3          4  Cereal Flip Lid Container/Storage Jar - Assort...   \n",
       "5          6                  Germ - Removal Multipurpose Wipes   \n",
       "10        11                           Wheat Grass Powder - Raw   \n",
       "15        16           Dove Plastic Soap Case - Assorted Colour   \n",
       "...      ...                                                ...   \n",
       "27546  27547                      Organic Powder - Garam Masala   \n",
       "27550  27551         Wottagirl! Perfume Spray - Heaven, Classic   \n",
       "27551  27552                                           Rosemary   \n",
       "27553  27554                          Green Tea - Pure Original   \n",
       "27554  27555                     United Dreams Go Far Deodorant   \n",
       "\n",
       "                       category            sub_category  \\\n",
       "2          Cleaning & Household             Pooja Needs   \n",
       "3          Cleaning & Household    Bins & Bathroom Ware   \n",
       "5          Cleaning & Household    All Purpose Cleaners   \n",
       "10         Gourmet & World Food  Cooking & Baking Needs   \n",
       "15         Cleaning & Household    Bins & Bathroom Ware   \n",
       "...                         ...                     ...   \n",
       "27546  Foodgrains, Oil & Masala         Organic Staples   \n",
       "27550          Beauty & Hygiene       Fragrances & Deos   \n",
       "27551      Gourmet & World Food  Cooking & Baking Needs   \n",
       "27553                 Beverages                     Tea   \n",
       "27554          Beauty & Hygiene          Men's Grooming   \n",
       "\n",
       "                            brand  sale_price  market_price  \\\n",
       "2                             Trm      119.00         250.0   \n",
       "3                          Nakoda      149.00         176.0   \n",
       "5                  Nature Protect      169.00         199.0   \n",
       "10                      NUTRASHIL      261.00         290.0   \n",
       "15                         Nakoda       49.00          59.0   \n",
       "...                           ...         ...           ...   \n",
       "27546              Organic Tattva      152.00         160.0   \n",
       "27550                      Layerr      199.20         249.0   \n",
       "27551                    Puramate       67.50          75.0   \n",
       "27553                      Tetley      396.00         495.0   \n",
       "27554  United Colors Of Benetton       214.53         390.0   \n",
       "\n",
       "                                type  rating  \\\n",
       "2                    Lamp & Lamp Oil     3.4   \n",
       "3           Laundry, Storage Baskets     3.7   \n",
       "5      Disinfectant Spray & Cleaners     3.3   \n",
       "10                Flours & Pre-Mixes     4.0   \n",
       "15           Soap Cases & Dispensers     4.0   \n",
       "...                              ...     ...   \n",
       "27546       Organic Masalas & Spices     4.2   \n",
       "27550                        Perfume     3.9   \n",
       "27551       Herbs, Seasonings & Rubs     4.0   \n",
       "27553                       Tea Bags     4.2   \n",
       "27554               Men's Deodorants     4.5   \n",
       "\n",
       "                                             description  is_discount_product  \n",
       "2      A perfect gift for all occasions, be it your m...                 True  \n",
       "3      Multipurpose container with an attractive desi...                 True  \n",
       "5      Stay protected from contamination with Multipu...                 True  \n",
       "10     Wheatgrass is a superfood potent health food w...                 True  \n",
       "15     This soap case is made of virgin plastic which...                 True  \n",
       "...                                                  ...                  ...  \n",
       "27546  Organic Tattva Garam masala is a famous spice ...                 True  \n",
       "27550  Layerr brings you Wottagirl Classic fragrant b...                 True  \n",
       "27551  Puramate rosemary is enough to transform a dis...                 True  \n",
       "27553  Tetley Green Tea with its refreshing pure, ori...                 True  \n",
       "27554  The new mens fragrance from the United Dreams ...                 True  \n",
       "\n",
       "[15229 rows x 11 columns]"
      ]
     },
     "execution_count": 23,
     "metadata": {},
     "output_type": "execute_result"
    }
   ],
   "source": [
    "discount_data = df[df['is_discount_product'] == True]\n",
    "discount_data"
   ]
  },
  {
   "cell_type": "code",
   "execution_count": 24,
   "id": "698c4c4d",
   "metadata": {
    "execution": {
     "iopub.execute_input": "2022-08-30T15:32:02.274682Z",
     "iopub.status.busy": "2022-08-30T15:32:02.273054Z",
     "iopub.status.idle": "2022-08-30T15:32:02.865205Z",
     "shell.execute_reply": "2022-08-30T15:32:02.864164Z"
    },
    "papermill": {
     "duration": 0.614195,
     "end_time": "2022-08-30T15:32:02.867754",
     "exception": false,
     "start_time": "2022-08-30T15:32:02.253559",
     "status": "completed"
    },
    "tags": []
   },
   "outputs": [
    {
     "data": {
      "text/plain": [
       "<matplotlib.legend.Legend at 0x7fb505248410>"
      ]
     },
     "execution_count": 24,
     "metadata": {},
     "output_type": "execute_result"
    },
    {
     "data": {
      "image/png": "[encoded data removed]",
      "text/plain": [
       "<Figure size 1440x720 with 1 Axes>"
      ]
     },
     "metadata": {},
     "output_type": "display_data"
    }
   ],
   "source": [
    "fig = plt.figure(figsize=(20,10))\n",
    "\n",
    "sns.kdeplot(discount_data['rating'], shade=True)\n",
    "sns.kdeplot(df['rating'], shade =True)\n",
    "plt.xlabel(\"Ratings\",fontsize=15, weight='semibold')\n",
    "plt.ylabel(\"Density\",fontsize=15, weight='semibold')\n",
    "plt.title(\"Relative distribution of all products with discounted products\",fontsize=15, weight='semibold')\n",
    "fig.legend()"
   ]
  },
  {
   "cell_type": "markdown",
   "id": "aa743b64",
   "metadata": {
    "papermill": {
     "duration": 0.018899,
     "end_time": "2022-08-30T15:32:02.905742",
     "exception": false,
     "start_time": "2022-08-30T15:32:02.886843",
     "status": "completed"
    },
    "tags": []
   },
   "source": [
    "**Notes:**\n",
    "> As we see from this graph **blue shade** represents discounts products, and **brown shade** represents non-discounts products:\n",
    "> * From that we saw that in rating **(3.0 to 4.5)** it's products have little increase in selling.\n",
    "> * Even in rating **(4.6 to 5)** there is a little increase in selling in original sale_price."
   ]
  },
  {
   "cell_type": "markdown",
   "id": "234beebc",
   "metadata": {
    "papermill": {
     "duration": 0.019022,
     "end_time": "2022-08-30T15:32:02.943928",
     "exception": false,
     "start_time": "2022-08-30T15:32:02.924906",
     "status": "completed"
    },
    "tags": []
   },
   "source": [
    "## Hope u enjoyed my notebook !\n",
    "## If u like it, pls give me an upvote and leave a comment (:\n",
    "### Happy Analysis, It was AmrBoghdady..!"
   ]
  }
 ],
 "metadata": {
  "kernelspec": {
   "display_name": "Python 3",
   "language": "python",
   "name": "python3"
  },
  "language_info": {
   "codemirror_mode": {
    "name": "ipython",
    "version": 3
   },
   "file_extension": ".py",
   "mimetype": "text/x-python",
   "name": "python",
   "nbconvert_exporter": "python",
   "pygments_lexer": "ipython3",
   "version": "3.7.12"
  },
  "papermill": {
   "default_parameters": {},
   "duration": 17.581538,
   "end_time": "2022-08-30T15:32:03.686735",
   "environment_variables": {},
   "exception": null,
   "input_path": "__notebook__.ipynb",
   "output_path": "__notebook__.ipynb",
   "parameters": {},
   "start_time": "2022-08-30T15:31:46.105197",
   "version": "2.3.4"
  }
 },
 "nbformat": 4,
 "nbformat_minor": 5
}
